{
 "cells": [
  {
   "cell_type": "code",
   "execution_count": 1,
   "metadata": {},
   "outputs": [],
   "source": [
    "using BijectiveHilbert\n",
    "using PyPlot"
   ]
  },
  {
   "cell_type": "code",
   "execution_count": 15,
   "metadata": {},
   "outputs": [
    {
     "data": {
      "text/plain": [
       "100×100 Matrix{Float64}:\n",
       "  0.961377     1.2477     0.135816  …  -0.133487   -1.7409     -0.350476\n",
       "  0.966295    -1.7838     0.856375      0.581938    0.512918   -1.28347\n",
       "  0.189509    -1.52127    0.753123      0.0481336   0.027906   -0.158178\n",
       " -0.814934     0.465552   0.253528      1.22368    -1.04558    -0.86449\n",
       "  0.646184     1.34732    0.488561      1.69528    -0.380057   -1.05148\n",
       "  1.57189      1.59207    0.355813  …  -1.36515     0.912464   -1.91619\n",
       " -0.016299    -0.347967   1.07232       0.386456    1.01002    -0.584391\n",
       " -1.97987      0.295659  -1.10566      -0.672058   -0.824887    0.724636\n",
       "  0.546956     0.650232   0.499673     -0.327391    0.777429    1.34974\n",
       "  0.564819    -0.266102   1.46513      -0.639977   -0.420494    0.420859\n",
       "  1.0756      -1.26717    0.865008  …  -0.597489   -0.248678    1.69626\n",
       " -1.05523     -0.489774  -0.597025     -1.96978    -0.298302   -0.506464\n",
       "  0.257832    -0.978977  -0.379451     -1.02138     1.60065     1.14325\n",
       "  ⋮                                 ⋱                          \n",
       "  0.00719869   1.12783    0.657096      0.57427    -2.14725    -1.78414\n",
       "  1.84553      1.57493    0.644153      0.608658    0.901249    0.62516\n",
       " -0.538007     1.7506    -0.883815  …  -1.82345    -0.717998   -1.52133\n",
       "  0.00413106   0.817119  -0.692517      0.153632   -0.263887    0.179527\n",
       " -0.0463821    0.198439   0.503163      0.741355    0.275953    0.600582\n",
       "  0.191982    -0.333337   1.09333       1.69546     0.270826   -0.389091\n",
       "  0.00909425   0.850804  -0.194331      0.479132   -0.871869    0.432629\n",
       " -0.175024     0.369032   2.69478   …  -0.968814   -0.158456   -0.345031\n",
       " -1.34092     -0.606909  -0.982366     -0.177566   -0.696896    1.28047\n",
       "  0.502162     0.616821   0.582715      1.17897     0.899162    0.716675\n",
       " -0.297593    -0.182601   0.708124      0.954041    0.0735504  -1.58598\n",
       "  0.146856     0.868283   0.965224     -0.621738    1.15262    -0.0274966"
      ]
     },
     "execution_count": 15,
     "metadata": {},
     "output_type": "execute_result"
    }
   ],
   "source": [
    "test = randn(100,100)"
   ]
  },
  {
   "cell_type": "markdown",
   "metadata": {},
   "source": [
    "## vectorize matrix along hilbert curve"
   ]
  },
  {
   "cell_type": "code",
   "execution_count": 33,
   "metadata": {},
   "outputs": [
    {
     "data": {
      "text/plain": [
       "128×128 Matrix{Int64}:\n",
       "     1      2     15     16     17  …   5456   5457   5460   5461   5462\n",
       "     4      3     14     13     18      5453   5458   5459   5464   5463\n",
       "     5      8      9     12     31      5452   5471   5470   5465   5466\n",
       "     6      7     10     11     32      5451   5472   5469   5468   5467\n",
       "    59     58     55     54     33      5494   5473   5476   5477   5478\n",
       "    60     57     56     53     34  …   5493   5474   5475   5480   5479\n",
       "    61     62     51     52     47      5492   5487   5486   5481   5482\n",
       "    64     63     50     49     48      5489   5488   5485   5484   5483\n",
       "    65     68     69     70    123      5520   5521   5524   5525   5526\n",
       "    66     67     72     71    122      5517   5522   5523   5528   5527\n",
       "    79     78     73     74    119  …   5516   5535   5534   5529   5530\n",
       "    80     77     76     75    118      5515   5536   5533   5532   5531\n",
       "    81     82     95     96     97      5558   5537   5540   5541   5542\n",
       "     ⋮                              ⋱                    ⋮         \n",
       " 16305  16308  16309  16310  16267     10870  10849  10852  10853  10854\n",
       " 16306  16307  16312  16311  16266     10869  10850  10851  10856  10855\n",
       " 16319  16318  16313  16314  16263     10868  10863  10862  10857  10858\n",
       " 16320  16317  16316  16315  16262     10865  10864  10861  10860  10859\n",
       " 16321  16322  16335  16336  16337  …  10896  10897  10900  10901  10902\n",
       " 16324  16323  16334  16333  16338     10893  10898  10899  10904  10903\n",
       " 16325  16328  16329  16332  16351     10892  10911  10910  10905  10906\n",
       " 16326  16327  16330  16331  16352     10891  10912  10909  10908  10907\n",
       " 16379  16378  16375  16374  16353     10934  10913  10916  10917  10918\n",
       " 16380  16377  16376  16373  16354  …  10933  10914  10915  10920  10919\n",
       " 16381  16382  16371  16372  16367     10932  10927  10926  10921  10922\n",
       " 16384  16383  16370  16369  16368     10929  10928  10925  10924  10923"
      ]
     },
     "execution_count": 33,
     "metadata": {},
     "output_type": "execute_result"
    }
   ],
   "source": [
    "xy = zeros(Int, 128, 128)\n",
    "for y in 1:size(xy, 2)\n",
    "   for x in 1:size(xy, 1)\n",
    "       z = encode_hilbert(Simple2D(Int), [x, y])\n",
    "       xy[x, y] = z\n",
    "   end\n",
    "end\n",
    "xy"
   ]
  },
  {
   "cell_type": "code",
   "execution_count": 34,
   "metadata": {},
   "outputs": [
    {
     "data": {
      "image/png": "[encoded data removed]",
      "text/plain": [
       "Figure(PyObject <Figure size 640x480 with 1 Axes>)"
      ]
     },
     "metadata": {},
     "output_type": "display_data"
    },
    {
     "data": {
      "text/plain": [
       "PyObject <matplotlib.image.AxesImage object at 0x7f96fa74f610>"
      ]
     },
     "execution_count": 34,
     "metadata": {},
     "output_type": "execute_result"
    }
   ],
   "source": [
    "imshow(xy)"
   ]
  },
  {
   "cell_type": "code",
   "execution_count": 42,
   "metadata": {},
   "outputs": [
    {
     "data": {
      "text/plain": [
       "64-element reshape(adjoint(::Matrix{Float64}), 64) with eltype Float64:\n",
       " -0.3515370984339477\n",
       " -0.6024761968599665\n",
       " -0.951762113887122\n",
       "  0.6015039342330454\n",
       "  0.7176485472728186\n",
       "  1.5818334217743637\n",
       " -0.10860309694485976\n",
       " -2.070953081662797\n",
       "  0.16189572874511896\n",
       " -0.5880959880097358\n",
       "  2.494333124496617\n",
       " -0.916630634127627\n",
       "  1.3895035773041045\n",
       "  ⋮\n",
       " -0.04177348223136102\n",
       " -1.2931595492823544\n",
       "  0.023168713769463722\n",
       "  1.8419024314627306\n",
       "  0.9507445526794771\n",
       " -0.055734817928157404\n",
       " -1.331876879904817\n",
       " -0.6497079410387352\n",
       "  0.18681250735336968\n",
       "  0.6593090004148259\n",
       "  2.106691456632504\n",
       " -0.6173739003384078"
      ]
     },
     "execution_count": 42,
     "metadata": {},
     "output_type": "execute_result"
    }
   ],
   "source": [
    "test_along_Hilbert_curve = vec((test'[xy])')\n",
    "test_along_Hilbert_curve_alt = reshape((test'[xy])',prod(size(test)))"
   ]
  },
  {
   "cell_type": "markdown",
   "metadata": {},
   "source": [
    "## Reconstruct"
   ]
  },
  {
   "cell_type": "code",
   "execution_count": 43,
   "metadata": {},
   "outputs": [
    {
     "data": {
      "text/plain": [
       "8×8 adjoint(::Matrix{Float64}) with eltype Float64:\n",
       " -0.351537   -0.602476  -0.588096  …  -0.567716  -0.405724   -0.293185\n",
       "  1.32236    -0.18035    0.619279      2.49433   -0.951762    0.601504\n",
       "  0.717649    1.3895    -1.02262      -2.07095   -0.134853   -0.0389954\n",
       "  1.18538     0.861691  -2.92424       0.410883  -0.176015   -0.604846\n",
       "  1.79858     0.779798   0.63541       0.199828   1.08753     1.00167\n",
       "  0.0231687   1.8419    -0.617374  …  -1.29316   -0.0417735   0.186813\n",
       " -0.649708   -1.33188    1.49808      -0.607712  -0.310158   -2.30766\n",
       " -0.625165   -0.104983   1.47483      -0.574347  -0.0557348   0.950745"
      ]
     },
     "execution_count": 43,
     "metadata": {},
     "output_type": "execute_result"
    }
   ],
   "source": [
    "test_reconst = reshape(test_along_Hilbert_curve[sortperm(vec(xy'))],8,8)'"
   ]
  },
  {
   "cell_type": "code",
   "execution_count": 44,
   "metadata": {},
   "outputs": [
    {
     "data": {
      "text/plain": [
       "true"
      ]
     },
     "execution_count": 44,
     "metadata": {},
     "output_type": "execute_result"
    }
   ],
   "source": [
    "test==test_reconst"
   ]
  },
  {
   "cell_type": "code",
   "execution_count": 45,
   "metadata": {},
   "outputs": [
    {
     "data": {
      "text/plain": [
       "true"
      ]
     },
     "execution_count": 45,
     "metadata": {},
     "output_type": "execute_result"
    }
   ],
   "source": [
    "test_along_Hilbert_curve==test_along_Hilbert_curve_alt"
   ]
  },
  {
   "cell_type": "markdown",
   "metadata": {},
   "source": [
    "## Store the mapping as in a list of tuples"
   ]
  },
  {
   "cell_type": "code",
   "execution_count": 49,
   "metadata": {},
   "outputs": [],
   "source": [
    "mapping = []\n",
    "for j in 1:size(xy, 2) #length of parameter sweep 1\n",
    "    for i in 1:size(xy, 1) #length of parameter sweep 2\n",
    "        X = [i, j]\n",
    "        h = encode_hilbert(Simple2D(Int), X)\n",
    "        X .= 0\n",
    "        push!(mapping,(h=>decode_hilbert!(Simple2D(Int), X, h)))\n",
    "    end\n",
    "end\n"
   ]
  },
  {
   "cell_type": "code",
   "execution_count": 74,
   "metadata": {},
   "outputs": [
    {
     "data": {
      "text/plain": [
       "64-element Vector{Vector{Int64}}:\n",
       " [1, 1]\n",
       " [1, 2]\n",
       " [2, 2]\n",
       " [2, 1]\n",
       " [3, 1]\n",
       " [4, 1]\n",
       " [4, 2]\n",
       " [3, 2]\n",
       " [3, 3]\n",
       " [4, 3]\n",
       " [4, 4]\n",
       " [3, 4]\n",
       " [2, 4]\n",
       " ⋮\n",
       " [6, 4]\n",
       " [5, 4]\n",
       " [5, 3]\n",
       " [6, 3]\n",
       " [6, 2]\n",
       " [5, 2]\n",
       " [5, 1]\n",
       " [6, 1]\n",
       " [7, 1]\n",
       " [7, 2]\n",
       " [8, 2]\n",
       " [8, 1]"
      ]
     },
     "execution_count": 74,
     "metadata": {},
     "output_type": "execute_result"
    }
   ],
   "source": [
    "idx_pairs = [el[2] for el in sort(mapping)] #sort along the Hilbert curve. Now we can iterate over these indexes"
   ]
  },
  {
   "cell_type": "code",
   "execution_count": 78,
   "metadata": {},
   "outputs": [
    {
     "name": "stdout",
     "output_type": "stream",
     "text": [
      "1122344334432211122111223344433456655566778887788877655665567788"
     ]
    }
   ],
   "source": [
    "for (pair_x,pair_y) in idx_pairs\n",
    "    print(pair_x)\n",
    "end"
   ]
  },
  {
   "cell_type": "code",
   "execution_count": null,
   "metadata": {},
   "outputs": [],
   "source": []
  }
 ],
 "metadata": {
  "kernelspec": {
   "display_name": "Julia 1.6.3",
   "language": "julia",
   "name": "julia-1.6"
  },
  "language_info": {
   "file_extension": ".jl",
   "mimetype": "application/julia",
   "name": "julia",
   "version": "1.6.1"
  }
 },
 "nbformat": 4,
 "nbformat_minor": 4
}
