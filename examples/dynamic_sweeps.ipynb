{
 "cells": [
  {
   "cell_type": "code",
   "execution_count": 1,
   "metadata": {},
   "outputs": [
    {
     "name": "stderr",
     "output_type": "stream",
     "text": [
      "┌ Info: Precompiling HarmonicBalance [e13b9ff6-59c3-11ec-14b1-f3d2cc6c135e]\n",
      "└ @ Base loading.jl:1423\n"
     ]
    }
   ],
   "source": [
    "using Revise, HarmonicBalance\n",
    "using DifferentialEquations\n",
    "import HarmonicBalance.TimeEvolution: ParameterSweep, ODEProblem"
   ]
  },
  {
   "cell_type": "markdown",
   "metadata": {},
   "source": [
    "# Harmonic equations for the parametric oscillator"
   ]
  },
  {
   "cell_type": "code",
   "execution_count": null,
   "metadata": {},
   "outputs": [],
   "source": [
    "@variables γ,λ,F,θ,η,α, ω0, ω,t,T, ψ, x(t)\n",
    "\n",
    "natural_equation =  d(d(x,t),t) + γ*d(x,t) + ω0^2*(1-λ*cos(2*ω*t+ψ))*x + α * x^3 +η *d(x,t) * x^2\n",
    "forces =  F*cos(ω*t+θ)\n",
    "dEOM = HarmonicBalance.DifferentialEquation(natural_equation + forces, x)\n",
    "HarmonicBalance.add_harmonic!(dEOM, x, ω)\n",
    "@time averagedEOM = HarmonicBalance.get_harmonic_equations(dEOM, slow_time=T, fast_time=t);"
   ]
  },
  {
   "cell_type": "markdown",
   "metadata": {},
   "source": [
    "# single sweep"
   ]
  },
  {
   "cell_type": "code",
   "execution_count": null,
   "metadata": {},
   "outputs": [],
   "source": [
    "fixed_parameters = ParameterList(ω0 => 1.0,γ => 1E-2, λ => 5E-2, F => 1E-3,  α => 1.,  η=>0.3, θ => 0, ψ => 0)\n",
    "sweep=ParameterSweep(ω=>(0.95,0.98), (0, 2E4)) # linearly interpolate between two values at two times\n",
    "prob=ODEProblem(averagedEOM, fixed_parameters, sweep=sweep, x0=[0.0001;0.0001], timespan=(0, 4E4))"
   ]
  },
  {
   "cell_type": "code",
   "execution_count": null,
   "metadata": {},
   "outputs": [],
   "source": [
    "@time time_soln = solve(prob,saveat=100);\n",
    "HarmonicBalance.plot(time_soln.t, getindex.(time_soln.u,1).^2 .+ getindex.(time_soln.u,2).^2);"
   ]
  },
  {
   "cell_type": "markdown",
   "metadata": {},
   "source": [
    "# simultaneous sweep of multiple parameters"
   ]
  },
  {
   "cell_type": "code",
   "execution_count": null,
   "metadata": {},
   "outputs": [],
   "source": [
    "fixed_parameters = ParameterList(ω0 => 1.0,γ => 1E-2,  F => 1E-3,  α => 1.,  η=>0.3, θ => 0, ψ => 0)\n",
    "\n",
    "# interpolate both parameters\n",
    "sw_params = [ω=>[0.95;1.0],λ => [5E-2;1E-2]]\n",
    "sweep=ParameterSweep(sw_params, (0, 2E4))\n",
    "\n",
    "prob=ODEProblem(averagedEOM, fixed_parameters, sweep=sweep; x0=[0.0001;0.0001], timespan=(0,4E4))\n",
    "\n",
    "@time time_soln = solve(prob,saveat=100);\n",
    "HarmonicBalance.plot(time_soln.t, getindex.(time_soln.u,1).^2 .+ getindex.(time_soln.u,2).^2);"
   ]
  },
  {
   "cell_type": "markdown",
   "metadata": {},
   "source": [
    "# series of sweeps"
   ]
  },
  {
   "cell_type": "code",
   "execution_count": null,
   "metadata": {},
   "outputs": [],
   "source": [
    "# combine two sweeps\n",
    "sweep1 = ParameterSweep(ω => [0.95, 1.0], (0, 2E4))\n",
    "sweep2 = ParameterSweep(λ => [0.05, 0.01], (2E4, 4E4))\n",
    "sweep = sweep1 + sweep2\n",
    "\n",
    "fixed_parameters = ParameterList(ω0 => 1.0,γ => 1E-2,  F => 1E-3,  α => 1.,  η=>0.3, θ => 0, ψ => 0)\n",
    "\n",
    "prob=ODEProblem(averagedEOM, fixed_parameters, sweep=sweep; x0=[0.0001;0.0001], timespan=(0, 4E4));"
   ]
  },
  {
   "cell_type": "code",
   "execution_count": null,
   "metadata": {},
   "outputs": [],
   "source": [
    "@time time_soln = solve(prob,saveat=100);\n",
    "HarmonicBalance.plot(time_soln.t, getindex.(time_soln.u,1).^2 .+ getindex.(time_soln.u,2).^2);"
   ]
  },
  {
   "cell_type": "code",
   "execution_count": null,
   "metadata": {},
   "outputs": [],
   "source": [
    "# check out our swept function\n",
    "times = 0:4E4\n",
    "HarmonicBalance.plot(times, sweep[ω].(times));"
   ]
  },
  {
   "cell_type": "markdown",
   "metadata": {},
   "source": [
    "# Define custom sweep functions"
   ]
  },
  {
   "cell_type": "code",
   "execution_count": null,
   "metadata": {
    "scrolled": false
   },
   "outputs": [],
   "source": [
    "times = 0:2E4\n",
    "ωfunc(t)=1-0.05*cos(2*pi*t/times[end])\n",
    "λfunc(t)=0.05-0.027*sin(2*pi*t/times[end])\n",
    "sweep_circle=ParameterSweep([ω => ωfunc,λ => λfunc])\n",
    "# check the swept functions\n",
    "HarmonicBalance.plot((sweep_circle[ω].(times)),(sweep_circle[λ].(times)));"
   ]
  },
  {
   "cell_type": "code",
   "execution_count": null,
   "metadata": {},
   "outputs": [],
   "source": [
    "fixed_parameters = ParameterList(ω0 => 1.0,γ => 1E-2,  F => 1E-3,  α => 1.,  η=>0.3, θ => 0, ψ => 0)\n",
    "prob=ODEProblem(averagedEOM, fixed_parameters,sweep=sweep_circle; x0=[0.0001;0.0001], timespan=(0, 2E4))\n",
    "@time time_soln = solve(prob,saveat=100);\n",
    "HarmonicBalance.plot(getindex.(time_soln.t, 1), getindex.(time_soln.u,1).^2 .+ getindex.(time_soln.u,2).^2);"
   ]
  },
  {
   "cell_type": "markdown",
   "metadata": {},
   "source": [
    "# Use steady-state solutions as initial conditions"
   ]
  },
  {
   "cell_type": "code",
   "execution_count": null,
   "metadata": {
    "scrolled": true
   },
   "outputs": [],
   "source": [
    "fixed_parameters = ParameterList(ω0 => 1.0,γ => 1E-2,  F => 1E-3,  α => 1.,  η=>0.3, θ => 0, ψ => 0, λ=>0.05)\n",
    "params_range = ParameterRange(ω => LinRange(1.04,1.1,100))\n",
    "ss_problem = HarmonicBalance.Problem(averagedEOM)\n",
    "steady_soln = HarmonicBalance.get_steady_states(ss_problem, params_range, fixed_parameters);"
   ]
  },
  {
   "cell_type": "code",
   "execution_count": null,
   "metadata": {},
   "outputs": [],
   "source": [
    "# select a solution and evolve from it\n",
    "index = 75\n",
    "s1 = get_single_solution(steady_soln, branch=1, index=1);\n",
    "s2 = get_single_solution(steady_soln, branch=2, index=1);\n",
    "s3 = get_single_solution(steady_soln, branch=3, index=1);\n",
    "\n",
    "sweep = ParameterSweep(ω => (s1[ω], 1.1), (0, 1E4))\n",
    "function t_solve(s)\n",
    "    problem = ODEProblem(averagedEOM, steady_solution=s, timespan=(0,1E4), sweep=sweep)\n",
    "    time_soln = solve(problem,saveat=10);\n",
    "end"
   ]
  },
  {
   "cell_type": "code",
   "execution_count": null,
   "metadata": {
    "scrolled": true
   },
   "outputs": [],
   "source": [
    "# time-evolve all three solutions\n",
    "time_soln_1 = t_solve(s1)\n",
    "time_soln_2 = t_solve(s2)\n",
    "time_soln_3 = t_solve(s3);"
   ]
  },
  {
   "cell_type": "code",
   "execution_count": null,
   "metadata": {},
   "outputs": [],
   "source": [
    "# contrast to steady-state solution\n",
    "plot_td(s) = HarmonicBalance.plot(s.t, sqrt.(getindex.(s.u,1).^2 .+ getindex.(s.u,2).^2))\n",
    "plot_td(time_soln_1)\n",
    "plot_td(time_soln_2)\n",
    "plot_td(time_soln_3)\n",
    "HarmonicBalance.plot_1D_solutions(steady_soln, x=\"ω\", y=\"sqrt(u1^2 + v1^2)\")"
   ]
  },
  {
   "cell_type": "code",
   "execution_count": null,
   "metadata": {},
   "outputs": [],
   "source": []
  }
 ],
 "metadata": {
  "kernelspec": {
   "display_name": "Julia 1.7.0",
   "language": "julia",
   "name": "julia-1.7"
  },
  "language_info": {
   "file_extension": ".jl",
   "mimetype": "application/julia",
   "name": "julia",
   "version": "1.7.0"
  }
 },
 "nbformat": 4,
 "nbformat_minor": 4
}
